{
  "nbformat": 4,
  "nbformat_minor": 0,
  "metadata": {
    "colab": {
      "provenance": []
    },
    "kernelspec": {
      "name": "python3",
      "display_name": "Python 3"
    },
    "language_info": {
      "name": "python"
    }
  },
  "cells": [
    {
      "cell_type": "code",
      "source": [
        "import numpy as np\n",
        "import pandas as pd\n",
        "import re\n",
        "from sklearn.metrics.pairwise import cosine_similarity\n",
        "import warnings\n",
        "warnings.filterwarnings('ignore')"
      ],
      "metadata": {
        "id": "er-FsyqBR7-0"
      },
      "execution_count": 168,
      "outputs": []
    },
    {
      "cell_type": "code",
      "source": [
        "data =pd.read_excel('/content/content.xlsx')"
      ],
      "metadata": {
        "id": "lPFbIeepSnhf"
      },
      "execution_count": 169,
      "outputs": []
    },
    {
      "cell_type": "code",
      "source": [
        "data.head()"
      ],
      "metadata": {
        "colab": {
          "base_uri": "https://localhost:8080/",
          "height": 206
        },
        "id": "5FlSzEVEgEAg",
        "outputId": "386c02f7-04a7-41cd-e58b-e28428684ef4"
      },
      "execution_count": 170,
      "outputs": [
        {
          "output_type": "execute_result",
          "data": {
            "text/plain": [
              "                                                Text  Label\n",
              "0  affordability, convenience, honesty and integr...      1\n",
              "1  Our law office understands that when people hi...      1\n",
              "2  right to inherit from the adopting parent. The...      1\n",
              "3                an unmarried person over age 18; or      1\n",
              "4  a married person over age 18 who is legally se...      1"
            ],
            "text/html": [
              "\n",
              "  <div id=\"df-8c0e6cfc-4e39-4a45-9577-3306fda2739a\">\n",
              "    <div class=\"colab-df-container\">\n",
              "      <div>\n",
              "<style scoped>\n",
              "    .dataframe tbody tr th:only-of-type {\n",
              "        vertical-align: middle;\n",
              "    }\n",
              "\n",
              "    .dataframe tbody tr th {\n",
              "        vertical-align: top;\n",
              "    }\n",
              "\n",
              "    .dataframe thead th {\n",
              "        text-align: right;\n",
              "    }\n",
              "</style>\n",
              "<table border=\"1\" class=\"dataframe\">\n",
              "  <thead>\n",
              "    <tr style=\"text-align: right;\">\n",
              "      <th></th>\n",
              "      <th>Text</th>\n",
              "      <th>Label</th>\n",
              "    </tr>\n",
              "  </thead>\n",
              "  <tbody>\n",
              "    <tr>\n",
              "      <th>0</th>\n",
              "      <td>affordability, convenience, honesty and integr...</td>\n",
              "      <td>1</td>\n",
              "    </tr>\n",
              "    <tr>\n",
              "      <th>1</th>\n",
              "      <td>Our law office understands that when people hi...</td>\n",
              "      <td>1</td>\n",
              "    </tr>\n",
              "    <tr>\n",
              "      <th>2</th>\n",
              "      <td>right to inherit from the adopting parent. The...</td>\n",
              "      <td>1</td>\n",
              "    </tr>\n",
              "    <tr>\n",
              "      <th>3</th>\n",
              "      <td>an unmarried person over age 18; or</td>\n",
              "      <td>1</td>\n",
              "    </tr>\n",
              "    <tr>\n",
              "      <th>4</th>\n",
              "      <td>a married person over age 18 who is legally se...</td>\n",
              "      <td>1</td>\n",
              "    </tr>\n",
              "  </tbody>\n",
              "</table>\n",
              "</div>\n",
              "      <button class=\"colab-df-convert\" onclick=\"convertToInteractive('df-8c0e6cfc-4e39-4a45-9577-3306fda2739a')\"\n",
              "              title=\"Convert this dataframe to an interactive table.\"\n",
              "              style=\"display:none;\">\n",
              "        \n",
              "  <svg xmlns=\"http://www.w3.org/2000/svg\" height=\"24px\"viewBox=\"0 0 24 24\"\n",
              "       width=\"24px\">\n",
              "    <path d=\"M0 0h24v24H0V0z\" fill=\"none\"/>\n",
              "    <path d=\"M18.56 5.44l.94 2.06.94-2.06 2.06-.94-2.06-.94-.94-2.06-.94 2.06-2.06.94zm-11 1L8.5 8.5l.94-2.06 2.06-.94-2.06-.94L8.5 2.5l-.94 2.06-2.06.94zm10 10l.94 2.06.94-2.06 2.06-.94-2.06-.94-.94-2.06-.94 2.06-2.06.94z\"/><path d=\"M17.41 7.96l-1.37-1.37c-.4-.4-.92-.59-1.43-.59-.52 0-1.04.2-1.43.59L10.3 9.45l-7.72 7.72c-.78.78-.78 2.05 0 2.83L4 21.41c.39.39.9.59 1.41.59.51 0 1.02-.2 1.41-.59l7.78-7.78 2.81-2.81c.8-.78.8-2.07 0-2.86zM5.41 20L4 18.59l7.72-7.72 1.47 1.35L5.41 20z\"/>\n",
              "  </svg>\n",
              "      </button>\n",
              "      \n",
              "  <style>\n",
              "    .colab-df-container {\n",
              "      display:flex;\n",
              "      flex-wrap:wrap;\n",
              "      gap: 12px;\n",
              "    }\n",
              "\n",
              "    .colab-df-convert {\n",
              "      background-color: #E8F0FE;\n",
              "      border: none;\n",
              "      border-radius: 50%;\n",
              "      cursor: pointer;\n",
              "      display: none;\n",
              "      fill: #1967D2;\n",
              "      height: 32px;\n",
              "      padding: 0 0 0 0;\n",
              "      width: 32px;\n",
              "    }\n",
              "\n",
              "    .colab-df-convert:hover {\n",
              "      background-color: #E2EBFA;\n",
              "      box-shadow: 0px 1px 2px rgba(60, 64, 67, 0.3), 0px 1px 3px 1px rgba(60, 64, 67, 0.15);\n",
              "      fill: #174EA6;\n",
              "    }\n",
              "\n",
              "    [theme=dark] .colab-df-convert {\n",
              "      background-color: #3B4455;\n",
              "      fill: #D2E3FC;\n",
              "    }\n",
              "\n",
              "    [theme=dark] .colab-df-convert:hover {\n",
              "      background-color: #434B5C;\n",
              "      box-shadow: 0px 1px 3px 1px rgba(0, 0, 0, 0.15);\n",
              "      filter: drop-shadow(0px 1px 2px rgba(0, 0, 0, 0.3));\n",
              "      fill: #FFFFFF;\n",
              "    }\n",
              "  </style>\n",
              "\n",
              "      <script>\n",
              "        const buttonEl =\n",
              "          document.querySelector('#df-8c0e6cfc-4e39-4a45-9577-3306fda2739a button.colab-df-convert');\n",
              "        buttonEl.style.display =\n",
              "          google.colab.kernel.accessAllowed ? 'block' : 'none';\n",
              "\n",
              "        async function convertToInteractive(key) {\n",
              "          const element = document.querySelector('#df-8c0e6cfc-4e39-4a45-9577-3306fda2739a');\n",
              "          const dataTable =\n",
              "            await google.colab.kernel.invokeFunction('convertToInteractive',\n",
              "                                                     [key], {});\n",
              "          if (!dataTable) return;\n",
              "\n",
              "          const docLinkHtml = 'Like what you see? Visit the ' +\n",
              "            '<a target=\"_blank\" href=https://colab.research.google.com/notebooks/data_table.ipynb>data table notebook</a>'\n",
              "            + ' to learn more about interactive tables.';\n",
              "          element.innerHTML = '';\n",
              "          dataTable['output_type'] = 'display_data';\n",
              "          await google.colab.output.renderOutput(dataTable, element);\n",
              "          const docLink = document.createElement('div');\n",
              "          docLink.innerHTML = docLinkHtml;\n",
              "          element.appendChild(docLink);\n",
              "        }\n",
              "      </script>\n",
              "    </div>\n",
              "  </div>\n",
              "  "
            ]
          },
          "metadata": {},
          "execution_count": 170
        }
      ]
    },
    {
      "cell_type": "code",
      "source": [
        "data.shape"
      ],
      "metadata": {
        "colab": {
          "base_uri": "https://localhost:8080/"
        },
        "id": "RzSS85rPgL9v",
        "outputId": "b3fc174c-6827-4d52-a165-6ce4ff1e3235"
      },
      "execution_count": 171,
      "outputs": [
        {
          "output_type": "execute_result",
          "data": {
            "text/plain": [
              "(98, 2)"
            ]
          },
          "metadata": {},
          "execution_count": 171
        }
      ]
    },
    {
      "cell_type": "code",
      "source": [
        "data.info()"
      ],
      "metadata": {
        "colab": {
          "base_uri": "https://localhost:8080/"
        },
        "id": "YHg5dRYSgOGa",
        "outputId": "c82b3112-5327-4a56-e44b-8381b4c990a3"
      },
      "execution_count": 172,
      "outputs": [
        {
          "output_type": "stream",
          "name": "stdout",
          "text": [
            "<class 'pandas.core.frame.DataFrame'>\n",
            "RangeIndex: 98 entries, 0 to 97\n",
            "Data columns (total 2 columns):\n",
            " #   Column  Non-Null Count  Dtype \n",
            "---  ------  --------------  ----- \n",
            " 0   Text    98 non-null     object\n",
            " 1   Label   98 non-null     int64 \n",
            "dtypes: int64(1), object(1)\n",
            "memory usage: 1.7+ KB\n"
          ]
        }
      ]
    },
    {
      "cell_type": "code",
      "source": [
        "data.isnull().sum()"
      ],
      "metadata": {
        "colab": {
          "base_uri": "https://localhost:8080/"
        },
        "id": "IuwtZMz1gPdy",
        "outputId": "e4b8c4a0-be67-4c9a-8377-2170da8552a6"
      },
      "execution_count": 173,
      "outputs": [
        {
          "output_type": "execute_result",
          "data": {
            "text/plain": [
              "Text     0\n",
              "Label    0\n",
              "dtype: int64"
            ]
          },
          "metadata": {},
          "execution_count": 173
        }
      ]
    },
    {
      "cell_type": "code",
      "source": [
        "print(data.value_counts('Label'))"
      ],
      "metadata": {
        "id": "anM3Cq7ZhTnv",
        "colab": {
          "base_uri": "https://localhost:8080/"
        },
        "outputId": "5b2f05f4-c41a-4c8e-d0a9-91211898f40a"
      },
      "execution_count": 174,
      "outputs": [
        {
          "output_type": "stream",
          "name": "stdout",
          "text": [
            "Label\n",
            "1    84\n",
            "0    14\n",
            "dtype: int64\n"
          ]
        }
      ]
    },
    {
      "cell_type": "code",
      "source": [
        "\n",
        "from sklearn.linear_model import PassiveAggressiveClassifier"
      ],
      "metadata": {
        "id": "Mm819nwtgRv1"
      },
      "execution_count": 175,
      "outputs": []
    },
    {
      "cell_type": "code",
      "source": [
        "X=data['Text']\n"
      ],
      "metadata": {
        "id": "qdjVqZtLhPUK"
      },
      "execution_count": 176,
      "outputs": []
    },
    {
      "cell_type": "code",
      "source": [
        "X.head()"
      ],
      "metadata": {
        "colab": {
          "base_uri": "https://localhost:8080/"
        },
        "id": "zqeeLtRok8T6",
        "outputId": "6495e377-a0fe-4b6f-cecc-18eabfbdfc20"
      },
      "execution_count": 177,
      "outputs": [
        {
          "output_type": "execute_result",
          "data": {
            "text/plain": [
              "0    affordability, convenience, honesty and integr...\n",
              "1    Our law office understands that when people hi...\n",
              "2    right to inherit from the adopting parent. The...\n",
              "3                  an unmarried person over age 18; or\n",
              "4    a married person over age 18 who is legally se...\n",
              "Name: Text, dtype: object"
            ]
          },
          "metadata": {},
          "execution_count": 177
        }
      ]
    },
    {
      "cell_type": "code",
      "source": [
        "y=data['Label']"
      ],
      "metadata": {
        "id": "v3pFiSeJlBp5"
      },
      "execution_count": 178,
      "outputs": []
    },
    {
      "cell_type": "code",
      "source": [
        "\n",
        "def preprocessing_text(data):\n",
        "    # Lowercase the text\n",
        "    data = data.lower()\n",
        "    # Remove punctuation marks and underscores\n",
        "    data = re.sub(r'[^\\w\\s]', '', data.replace('_', ''))   #As underscores were seen so I am removing it specifically\n",
        "    return data\n",
        "\n",
        "\n"
      ],
      "metadata": {
        "id": "U0DfBIlVCYhh"
      },
      "execution_count": 179,
      "outputs": []
    },
    {
      "cell_type": "code",
      "source": [
        "X = X.apply(preprocessing_text)"
      ],
      "metadata": {
        "id": "YarJkxFyKAK8"
      },
      "execution_count": 180,
      "outputs": []
    },
    {
      "cell_type": "code",
      "source": [
        "X.head()"
      ],
      "metadata": {
        "colab": {
          "base_uri": "https://localhost:8080/"
        },
        "id": "UZHpcVqQLXZl",
        "outputId": "0653dcc7-7469-4fdd-9601-ea14ffb22ca2"
      },
      "execution_count": 181,
      "outputs": [
        {
          "output_type": "execute_result",
          "data": {
            "text/plain": [
              "0    affordability convenience honesty and integrit...\n",
              "1    our law office understands that when people hi...\n",
              "2    right to inherit from the adopting parent the ...\n",
              "3                   an unmarried person over age 18 or\n",
              "4    a married person over age 18 who is legally se...\n",
              "Name: Text, dtype: object"
            ]
          },
          "metadata": {},
          "execution_count": 181
        }
      ]
    },
    {
      "cell_type": "code",
      "source": [
        "from sklearn.model_selection import train_test_split\n",
        "X_train,X_test,y_train,y_test=train_test_split(X,y,test_size=0.25,random_state=0)"
      ],
      "metadata": {
        "id": "Zbqc3iW1l4Zc"
      },
      "execution_count": 182,
      "outputs": []
    },
    {
      "cell_type": "code",
      "source": [
        "print(X_train.shape)\n",
        "print(y_train.shape)\n",
        "print(X_test.shape)\n",
        "print(y_test.shape)"
      ],
      "metadata": {
        "colab": {
          "base_uri": "https://localhost:8080/"
        },
        "id": "pMv_2WhImfTj",
        "outputId": "72792050-06bb-4f9f-ac71-5bd272a3407e"
      },
      "execution_count": 183,
      "outputs": [
        {
          "output_type": "stream",
          "name": "stdout",
          "text": [
            "(73,)\n",
            "(73,)\n",
            "(25,)\n",
            "(25,)\n"
          ]
        }
      ]
    },
    {
      "cell_type": "code",
      "source": [
        "X_train.head()"
      ],
      "metadata": {
        "colab": {
          "base_uri": "https://localhost:8080/"
        },
        "id": "0Rrjlmvsm92d",
        "outputId": "2117e959-9a50-4471-c668-e1ee75bd7c29"
      },
      "execution_count": 184,
      "outputs": [
        {
          "output_type": "execute_result",
          "data": {
            "text/plain": [
              "48    death a trust document similar to a will direc...\n",
              "6     it is not until one is able to identify with t...\n",
              "97    union organizing efforts administrative hearin...\n",
              "80    life insurance policies that designate a benef...\n",
              "75                        probate and nonprobate assets\n",
              "Name: Text, dtype: object"
            ]
          },
          "metadata": {},
          "execution_count": 184
        }
      ]
    },
    {
      "cell_type": "code",
      "source": [
        "y_train.head()"
      ],
      "metadata": {
        "colab": {
          "base_uri": "https://localhost:8080/"
        },
        "id": "5t8aGuatnBIW",
        "outputId": "7220c66f-3313-4431-f7f3-337f7e5a9b04"
      },
      "execution_count": 185,
      "outputs": [
        {
          "output_type": "execute_result",
          "data": {
            "text/plain": [
              "48    1\n",
              "6     1\n",
              "97    0\n",
              "80    1\n",
              "75    1\n",
              "Name: Label, dtype: int64"
            ]
          },
          "metadata": {},
          "execution_count": 185
        }
      ]
    },
    {
      "cell_type": "code",
      "source": [
        "from sklearn.feature_extraction.text import CountVectorizer\n",
        "vectorizer=CountVectorizer()"
      ],
      "metadata": {
        "id": "emh3VvLNmpDG"
      },
      "execution_count": 186,
      "outputs": []
    },
    {
      "cell_type": "code",
      "source": [
        "X_train=vectorizer.fit_transform(X_train) #We always fit&transform the \"training\" dataset and only \"transform\" the test dataset\n",
        "X_test=vectorizer.transform(X_test)"
      ],
      "metadata": {
        "id": "-dQ8T5ZOnAMQ"
      },
      "execution_count": 187,
      "outputs": []
    },
    {
      "cell_type": "code",
      "source": [
        "print(X_train)"
      ],
      "metadata": {
        "colab": {
          "base_uri": "https://localhost:8080/"
        },
        "id": "wEKihmf4mzoV",
        "outputId": "8cd5bb4a-1ca0-482e-acf7-95700ff31eea"
      },
      "execution_count": 188,
      "outputs": [
        {
          "output_type": "stream",
          "name": "stdout",
          "text": [
            "  (0, 144)\t1\n",
            "  (0, 549)\t2\n",
            "  (0, 179)\t1\n",
            "  (0, 488)\t1\n",
            "  (0, 537)\t2\n",
            "  (0, 589)\t1\n",
            "  (0, 165)\t1\n",
            "  (0, 521)\t3\n",
            "  (0, 551)\t1\n",
            "  (0, 55)\t1\n",
            "  (0, 174)\t1\n",
            "  (0, 363)\t1\n",
            "  (0, 432)\t1\n",
            "  (1, 537)\t2\n",
            "  (1, 521)\t4\n",
            "  (1, 302)\t1\n",
            "  (1, 301)\t2\n",
            "  (1, 362)\t1\n",
            "  (1, 564)\t1\n",
            "  (1, 368)\t1\n",
            "  (1, 4)\t1\n",
            "  (1, 275)\t1\n",
            "  (1, 591)\t1\n",
            "  (1, 331)\t1\n",
            "  (1, 278)\t1\n",
            "  :\t:\n",
            "  (72, 473)\t1\n",
            "  (72, 434)\t1\n",
            "  (72, 372)\t1\n",
            "  (72, 583)\t1\n",
            "  (72, 580)\t1\n",
            "  (72, 354)\t1\n",
            "  (72, 389)\t1\n",
            "  (72, 67)\t1\n",
            "  (72, 10)\t2\n",
            "  (72, 160)\t1\n",
            "  (72, 428)\t1\n",
            "  (72, 205)\t1\n",
            "  (72, 9)\t2\n",
            "  (72, 462)\t1\n",
            "  (72, 486)\t1\n",
            "  (72, 410)\t1\n",
            "  (72, 505)\t1\n",
            "  (72, 82)\t1\n",
            "  (72, 84)\t1\n",
            "  (72, 468)\t1\n",
            "  (72, 21)\t1\n",
            "  (72, 270)\t2\n",
            "  (72, 456)\t1\n",
            "  (72, 32)\t1\n",
            "  (72, 441)\t1\n"
          ]
        }
      ]
    },
    {
      "cell_type": "code",
      "source": [
        "print(X_test)"
      ],
      "metadata": {
        "colab": {
          "base_uri": "https://localhost:8080/"
        },
        "id": "4tcpa_0XnlA_",
        "outputId": "acf41117-49c4-450c-8561-c8eb71126a8d"
      },
      "execution_count": 189,
      "outputs": [
        {
          "output_type": "stream",
          "name": "stdout",
          "text": [
            "  (0, 8)\t1\n",
            "  (0, 26)\t1\n",
            "  (0, 55)\t1\n",
            "  (0, 70)\t1\n",
            "  (0, 89)\t1\n",
            "  (0, 144)\t2\n",
            "  (0, 162)\t1\n",
            "  (0, 172)\t1\n",
            "  (0, 198)\t1\n",
            "  (0, 255)\t2\n",
            "  (0, 333)\t1\n",
            "  (0, 337)\t1\n",
            "  (0, 343)\t1\n",
            "  (0, 363)\t1\n",
            "  (0, 372)\t1\n",
            "  (0, 399)\t1\n",
            "  (0, 400)\t1\n",
            "  (0, 407)\t1\n",
            "  (0, 432)\t1\n",
            "  (0, 503)\t1\n",
            "  (0, 508)\t1\n",
            "  (0, 520)\t2\n",
            "  (0, 521)\t3\n",
            "  (0, 522)\t1\n",
            "  (0, 533)\t1\n",
            "  :\t:\n",
            "  (21, 33)\t1\n",
            "  (21, 43)\t1\n",
            "  (21, 57)\t1\n",
            "  (21, 198)\t1\n",
            "  (21, 298)\t1\n",
            "  (21, 363)\t1\n",
            "  (21, 521)\t1\n",
            "  (22, 0)\t1\n",
            "  (22, 27)\t1\n",
            "  (22, 42)\t1\n",
            "  (22, 372)\t1\n",
            "  (22, 381)\t1\n",
            "  (22, 401)\t1\n",
            "  (23, 278)\t1\n",
            "  (23, 400)\t1\n",
            "  (23, 582)\t1\n",
            "  (24, 301)\t1\n",
            "  (24, 313)\t1\n",
            "  (24, 322)\t2\n",
            "  (24, 432)\t1\n",
            "  (24, 460)\t2\n",
            "  (24, 520)\t1\n",
            "  (24, 535)\t1\n",
            "  (24, 537)\t1\n",
            "  (24, 549)\t1\n"
          ]
        }
      ]
    },
    {
      "cell_type": "code",
      "source": [
        "X_train_array = X_train.toarray()\n",
        "X_test_array = X_test.toarray()\n",
        "\n",
        "print(X_train_array)\n",
        "print(X_test_array)\n"
      ],
      "metadata": {
        "colab": {
          "base_uri": "https://localhost:8080/"
        },
        "id": "8kgJgcYmr6_0",
        "outputId": "2ccd1135-ccc1-4bc5-e3e9-d094ef038a02"
      },
      "execution_count": 190,
      "outputs": [
        {
          "output_type": "stream",
          "name": "stdout",
          "text": [
            "[[0 0 0 ... 0 0 0]\n",
            " [0 0 0 ... 0 0 0]\n",
            " [0 0 0 ... 0 0 0]\n",
            " ...\n",
            " [0 0 0 ... 0 0 0]\n",
            " [0 0 0 ... 0 0 0]\n",
            " [0 0 0 ... 0 0 0]]\n",
            "[[0 0 0 ... 2 3 0]\n",
            " [0 0 0 ... 0 0 0]\n",
            " [0 0 0 ... 0 0 0]\n",
            " ...\n",
            " [1 0 0 ... 0 0 0]\n",
            " [0 0 0 ... 0 0 0]\n",
            " [0 0 0 ... 0 0 0]]\n"
          ]
        }
      ]
    },
    {
      "cell_type": "code",
      "source": [
        "from sklearn.linear_model import PassiveAggressiveClassifier\n",
        "classifier=PassiveAggressiveClassifier()"
      ],
      "metadata": {
        "id": "H0vTvEcGnsuK"
      },
      "execution_count": 191,
      "outputs": []
    },
    {
      "cell_type": "code",
      "source": [
        "classifier.fit(X_train,y_train)"
      ],
      "metadata": {
        "colab": {
          "base_uri": "https://localhost:8080/",
          "height": 74
        },
        "id": "AeoNaY-woDKk",
        "outputId": "a30805c4-f58a-47b7-e118-56b490f0f2ab"
      },
      "execution_count": 192,
      "outputs": [
        {
          "output_type": "execute_result",
          "data": {
            "text/plain": [
              "PassiveAggressiveClassifier()"
            ],
            "text/html": [
              "<style>#sk-container-id-6 {color: black;background-color: white;}#sk-container-id-6 pre{padding: 0;}#sk-container-id-6 div.sk-toggleable {background-color: white;}#sk-container-id-6 label.sk-toggleable__label {cursor: pointer;display: block;width: 100%;margin-bottom: 0;padding: 0.3em;box-sizing: border-box;text-align: center;}#sk-container-id-6 label.sk-toggleable__label-arrow:before {content: \"▸\";float: left;margin-right: 0.25em;color: #696969;}#sk-container-id-6 label.sk-toggleable__label-arrow:hover:before {color: black;}#sk-container-id-6 div.sk-estimator:hover label.sk-toggleable__label-arrow:before {color: black;}#sk-container-id-6 div.sk-toggleable__content {max-height: 0;max-width: 0;overflow: hidden;text-align: left;background-color: #f0f8ff;}#sk-container-id-6 div.sk-toggleable__content pre {margin: 0.2em;color: black;border-radius: 0.25em;background-color: #f0f8ff;}#sk-container-id-6 input.sk-toggleable__control:checked~div.sk-toggleable__content {max-height: 200px;max-width: 100%;overflow: auto;}#sk-container-id-6 input.sk-toggleable__control:checked~label.sk-toggleable__label-arrow:before {content: \"▾\";}#sk-container-id-6 div.sk-estimator input.sk-toggleable__control:checked~label.sk-toggleable__label {background-color: #d4ebff;}#sk-container-id-6 div.sk-label input.sk-toggleable__control:checked~label.sk-toggleable__label {background-color: #d4ebff;}#sk-container-id-6 input.sk-hidden--visually {border: 0;clip: rect(1px 1px 1px 1px);clip: rect(1px, 1px, 1px, 1px);height: 1px;margin: -1px;overflow: hidden;padding: 0;position: absolute;width: 1px;}#sk-container-id-6 div.sk-estimator {font-family: monospace;background-color: #f0f8ff;border: 1px dotted black;border-radius: 0.25em;box-sizing: border-box;margin-bottom: 0.5em;}#sk-container-id-6 div.sk-estimator:hover {background-color: #d4ebff;}#sk-container-id-6 div.sk-parallel-item::after {content: \"\";width: 100%;border-bottom: 1px solid gray;flex-grow: 1;}#sk-container-id-6 div.sk-label:hover label.sk-toggleable__label {background-color: #d4ebff;}#sk-container-id-6 div.sk-serial::before {content: \"\";position: absolute;border-left: 1px solid gray;box-sizing: border-box;top: 0;bottom: 0;left: 50%;z-index: 0;}#sk-container-id-6 div.sk-serial {display: flex;flex-direction: column;align-items: center;background-color: white;padding-right: 0.2em;padding-left: 0.2em;position: relative;}#sk-container-id-6 div.sk-item {position: relative;z-index: 1;}#sk-container-id-6 div.sk-parallel {display: flex;align-items: stretch;justify-content: center;background-color: white;position: relative;}#sk-container-id-6 div.sk-item::before, #sk-container-id-6 div.sk-parallel-item::before {content: \"\";position: absolute;border-left: 1px solid gray;box-sizing: border-box;top: 0;bottom: 0;left: 50%;z-index: -1;}#sk-container-id-6 div.sk-parallel-item {display: flex;flex-direction: column;z-index: 1;position: relative;background-color: white;}#sk-container-id-6 div.sk-parallel-item:first-child::after {align-self: flex-end;width: 50%;}#sk-container-id-6 div.sk-parallel-item:last-child::after {align-self: flex-start;width: 50%;}#sk-container-id-6 div.sk-parallel-item:only-child::after {width: 0;}#sk-container-id-6 div.sk-dashed-wrapped {border: 1px dashed gray;margin: 0 0.4em 0.5em 0.4em;box-sizing: border-box;padding-bottom: 0.4em;background-color: white;}#sk-container-id-6 div.sk-label label {font-family: monospace;font-weight: bold;display: inline-block;line-height: 1.2em;}#sk-container-id-6 div.sk-label-container {text-align: center;}#sk-container-id-6 div.sk-container {/* jupyter's `normalize.less` sets `[hidden] { display: none; }` but bootstrap.min.css set `[hidden] { display: none !important; }` so we also need the `!important` here to be able to override the default hidden behavior on the sphinx rendered scikit-learn.org. See: https://github.com/scikit-learn/scikit-learn/issues/21755 */display: inline-block !important;position: relative;}#sk-container-id-6 div.sk-text-repr-fallback {display: none;}</style><div id=\"sk-container-id-6\" class=\"sk-top-container\"><div class=\"sk-text-repr-fallback\"><pre>PassiveAggressiveClassifier()</pre><b>In a Jupyter environment, please rerun this cell to show the HTML representation or trust the notebook. <br />On GitHub, the HTML representation is unable to render, please try loading this page with nbviewer.org.</b></div><div class=\"sk-container\" hidden><div class=\"sk-item\"><div class=\"sk-estimator sk-toggleable\"><input class=\"sk-toggleable__control sk-hidden--visually\" id=\"sk-estimator-id-6\" type=\"checkbox\" checked><label for=\"sk-estimator-id-6\" class=\"sk-toggleable__label sk-toggleable__label-arrow\">PassiveAggressiveClassifier</label><div class=\"sk-toggleable__content\"><pre>PassiveAggressiveClassifier()</pre></div></div></div></div></div>"
            ]
          },
          "metadata": {},
          "execution_count": 192
        }
      ]
    },
    {
      "cell_type": "code",
      "source": [
        "y_pred=classifier.predict(X_test)\n",
        "y_pred"
      ],
      "metadata": {
        "colab": {
          "base_uri": "https://localhost:8080/"
        },
        "id": "ylIb9LopowqF",
        "outputId": "badb9ba4-7efc-43a5-9566-08cf81fdf4e2"
      },
      "execution_count": 193,
      "outputs": [
        {
          "output_type": "execute_result",
          "data": {
            "text/plain": [
              "array([1, 1, 1, 1, 1, 1, 1, 1, 1, 1, 1, 0, 1, 1, 1, 1, 1, 1, 1, 0, 1, 1,\n",
              "       1, 0, 1])"
            ]
          },
          "metadata": {},
          "execution_count": 193
        }
      ]
    },
    {
      "cell_type": "code",
      "source": [
        "y_test"
      ],
      "metadata": {
        "colab": {
          "base_uri": "https://localhost:8080/"
        },
        "id": "bfTn0S21bzzT",
        "outputId": "887cd288-4b67-49f4-bfb1-d1223a300a62"
      },
      "execution_count": 194,
      "outputs": [
        {
          "output_type": "execute_result",
          "data": {
            "text/plain": [
              "26    1\n",
              "85    0\n",
              "2     1\n",
              "55    1\n",
              "68    1\n",
              "82    1\n",
              "16    1\n",
              "78    1\n",
              "54    1\n",
              "66    1\n",
              "53    1\n",
              "90    0\n",
              "71    1\n",
              "13    1\n",
              "7     1\n",
              "30    1\n",
              "22    1\n",
              "24    1\n",
              "33    1\n",
              "8     1\n",
              "43    1\n",
              "62    1\n",
              "3     1\n",
              "88    0\n",
              "45    1\n",
              "Name: Label, dtype: int64"
            ]
          },
          "metadata": {},
          "execution_count": 194
        }
      ]
    },
    {
      "cell_type": "markdown",
      "source": [
        "#Checking the Performance of Model"
      ],
      "metadata": {
        "id": "r6XrjUpdb9cM"
      }
    },
    {
      "cell_type": "code",
      "source": [
        "from sklearn.metrics import classification_report"
      ],
      "metadata": {
        "id": "gIeeSjuvcF4y"
      },
      "execution_count": 195,
      "outputs": []
    },
    {
      "cell_type": "code",
      "source": [
        "print(classification_report(y_pred,y_test))"
      ],
      "metadata": {
        "colab": {
          "base_uri": "https://localhost:8080/"
        },
        "id": "XhPAoL2jcUIW",
        "outputId": "9a70b8b1-b731-40ab-bece-ca8b566b3937"
      },
      "execution_count": 196,
      "outputs": [
        {
          "output_type": "stream",
          "name": "stdout",
          "text": [
            "              precision    recall  f1-score   support\n",
            "\n",
            "           0       0.67      0.67      0.67         3\n",
            "           1       0.95      0.95      0.95        22\n",
            "\n",
            "    accuracy                           0.92        25\n",
            "   macro avg       0.81      0.81      0.81        25\n",
            "weighted avg       0.92      0.92      0.92        25\n",
            "\n"
          ]
        }
      ]
    },
    {
      "cell_type": "markdown",
      "source": [
        "# Testing the Model"
      ],
      "metadata": {
        "id": "ZX6XY45Qco8u"
      }
    },
    {
      "cell_type": "code",
      "source": [
        "sample_text1=[\"Freedom is misinterpreted at times. The real freedom is to allow yourself to drive deep inside yourself and believe in the freedom inside you. This will give you the confidence to deal with every situation in life.\"]\n",
        "y_pred1=classifier.predict(vectorizer.transform(sample_text1))\n",
        "if y_pred1==0:\n",
        "  print('Not Plagiarised')\n",
        "else:\n",
        "  print(\"Plagiarised Content\")"
      ],
      "metadata": {
        "colab": {
          "base_uri": "https://localhost:8080/"
        },
        "id": "T6PBP_6YchJk",
        "outputId": "5061524d-33ff-4f3b-c76a-9b741fb32f63"
      },
      "execution_count": 197,
      "outputs": [
        {
          "output_type": "stream",
          "name": "stdout",
          "text": [
            "Plagiarised Content\n"
          ]
        }
      ]
    },
    {
      "cell_type": "code",
      "source": [
        "sample_text2=[\"30. Poetry comes from the highest happiness or the deepest sorrow.\"]\n",
        "y_pred2=classifier.predict(vectorizer.transform(sample_text2))\n",
        "if y_pred2==1:\n",
        "  print('Not Plagiarised')\n",
        "else:\n",
        "  print(\"Plagiarised Content\")"
      ],
      "metadata": {
        "colab": {
          "base_uri": "https://localhost:8080/"
        },
        "id": "N_eC04nJeEHq",
        "outputId": "c918bc45-9e38-4f9e-e328-45268e85f1d2"
      },
      "execution_count": 151,
      "outputs": [
        {
          "output_type": "stream",
          "name": "stdout",
          "text": [
            "Not Plagiarised\n"
          ]
        }
      ]
    },
    {
      "cell_type": "code",
      "source": [
        "sample_text3=[\"your case. Our attorneys ensure our clients receive high-quality legal services and the support and resources they deserve. Our attorneys have more than 40 years of combined experience in the West Virginia court system:\"]\n",
        "y_pred3=classifier.predict(vectorizer.transform(sample_text3))\n",
        "if y_pred3==0:\n",
        "  print('Not Plagiarised')\n",
        "else:\n",
        "  print(\"Plagiarised Content\")"
      ],
      "metadata": {
        "id": "FgrzIyiWe_eh",
        "colab": {
          "base_uri": "https://localhost:8080/"
        },
        "outputId": "678e53b9-08f1-4e71-d691-9c8774148d7c"
      },
      "execution_count": 99,
      "outputs": [
        {
          "output_type": "stream",
          "name": "stdout",
          "text": [
            "Plagiarised Content\n"
          ]
        }
      ]
    },
    {
      "cell_type": "code",
      "source": [],
      "metadata": {
        "id": "L-m2S1R4fJaS"
      },
      "execution_count": 31,
      "outputs": []
    },
    {
      "cell_type": "code",
      "source": [
        "new_data = pd.DataFrame()\n",
        "while True:\n",
        "    new_text = input(\"Enter the new text (type 'exit' to stop): \")\n",
        "    if new_text.lower() == \"exit\":\n",
        "        break\n",
        "\n",
        "    label = int(input(\"Enter the label (1 for plagiarized and 0 for not plagiarized): \"))\n",
        "\n",
        "    # Apply preprocessing steps to new_text\n",
        "    \n",
        "\n",
        "    # Add the new data to the DataFrame\n",
        "    new_data = new_data.append({'Text': new_text, 'Label': label}, ignore_index=True)\n",
        "    \n",
        "    # Prepare the updated data for training\n",
        "    X_new= new_data['Text']\n",
        "    X_new = X_new.apply(preprocessing_text)\n",
        "    X_update = vectorizer.transform(X_new)\n",
        "    y_update = np.array(new_data['Label'])\n",
        "\n",
        "    # Partial fit the classifier on the updated data\n",
        "    classifier.partial_fit(X_update, y_update, classes=np.unique(y_train))\n",
        "    print(\"Model Updated Successfully\")\n"
      ],
      "metadata": {
        "colab": {
          "base_uri": "https://localhost:8080/"
        },
        "id": "115eFbfAZtCd",
        "outputId": "953c2265-6090-492b-f8dc-2260d109fa5d"
      },
      "execution_count": 32,
      "outputs": [
        {
          "name": "stdout",
          "output_type": "stream",
          "text": [
            "Enter the new text (type 'exit' to stop): exit\n"
          ]
        }
      ]
    },
    {
      "cell_type": "code",
      "source": [],
      "metadata": {
        "id": "JiZDh1apQGHx"
      },
      "execution_count": 32,
      "outputs": []
    },
    {
      "cell_type": "code",
      "source": [
        "\n"
      ],
      "metadata": {
        "id": "Wz4FOvKRXOIC"
      },
      "execution_count": 32,
      "outputs": []
    },
    {
      "cell_type": "code",
      "source": [
        "def check_consecutive_similarity(input_text, original_text, threshold=6):\n",
        "    input_words = input_text.lower().split()\n",
        "    original_words = original_text.lower().split()\n",
        "\n",
        "    for i in range(len(input_words) - threshold + 1):\n",
        "        input_consecutive_words = input_words[i:i+threshold]\n",
        "        if ' '.join(input_consecutive_words) in ' '.join(original_words):\n",
        "            return True\n",
        "\n",
        "    return False\n",
        "\n",
        "\n",
        "\n",
        "\n",
        "\n",
        "\n",
        "\n",
        "\n",
        "\n",
        "\n"
      ],
      "metadata": {
        "id": "5HqZDUYqduew"
      },
      "execution_count": 33,
      "outputs": []
    },
    {
      "cell_type": "code",
      "source": [
        "import numpy as np\n",
        "from sklearn.feature_extraction.text import TfidfVectorizer\n",
        "from sklearn.metrics.pairwise import cosine_similarity\n",
        "\n",
        "# Define the input texts\n",
        "input_text = \"A dream is not that which you see while sleeping, it is something that does not let you sleep.\"\n",
        "original_text = \"A dream is not that which\"\n",
        "\n",
        "# Preprocess the texts (e.g., lowercase, remove punctuation, etc.)\n",
        "\n",
        "# Apply TF-IDF vectorization\n",
        "vectorizer = TfidfVectorizer()\n",
        "vectorizer.fit([input_text, original_text])\n",
        "input_vector = vectorizer.transform([input_text])\n",
        "original_vector = vectorizer.transform([original_text])\n",
        "\n",
        "# Calculate cosine similarity\n",
        "similarity_score = cosine_similarity(input_vector, original_vector)[0][0]\n",
        "\n",
        "# Set the similarity threshold\n",
        "similarity_threshold = 0.6\n",
        "\n",
        "# Check if the similarity score exceeds the threshold\n",
        "if similarity_score >= similarity_threshold:\n",
        "    print(\"Plagiarised Content\")\n",
        "else:\n",
        "    print(\"Not Plagiarised\")\n"
      ],
      "metadata": {
        "colab": {
          "base_uri": "https://localhost:8080/"
        },
        "id": "_7bla-tIdw-k",
        "outputId": "9acf6294-3320-46b7-8fd4-cfbd6df71809"
      },
      "execution_count": 167,
      "outputs": [
        {
          "output_type": "stream",
          "name": "stdout",
          "text": [
            "Not Plagiarised\n"
          ]
        }
      ]
    },
    {
      "cell_type": "code",
      "source": [],
      "metadata": {
        "id": "FPxO366XWLzg"
      },
      "execution_count": null,
      "outputs": []
    }
  ]
}